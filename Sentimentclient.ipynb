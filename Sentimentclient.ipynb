{
  "cells": [
    {
      "cell_type": "markdown",
      "metadata": {
        "id": "view-in-github",
        "colab_type": "text"
      },
      "source": [
        "<a href=\"https://colab.research.google.com/github/Staures92/Projet-de-fin-Data-Afique-Hub/blob/main/Sentimentclient.ipynb\" target=\"_parent\"><img src=\"https://colab.research.google.com/assets/colab-badge.svg\" alt=\"Open In Colab\"/></a>"
      ]
    },
    {
      "cell_type": "code",
      "source": [
        "#!fusermount -u /content/drive"
      ],
      "metadata": {
        "id": "ZZmqyjTgkfFn"
      },
      "execution_count": 1,
      "outputs": []
    },
    {
      "cell_type": "code",
      "execution_count": 2,
      "metadata": {
        "id": "jGMrdfXFrl_a",
        "colab": {
          "base_uri": "https://localhost:8080/"
        },
        "outputId": "21a36435-c42b-4637-ec76-bf9af2401442"
      },
      "outputs": [
        {
          "output_type": "stream",
          "name": "stdout",
          "text": [
            "Mounted at /content/drive\n"
          ]
        }
      ],
      "source": [
        "from google.colab import drive\n",
        "drive.mount('/content/drive')"
      ]
    },
    {
      "cell_type": "code",
      "execution_count": 3,
      "metadata": {
        "colab": {
          "base_uri": "https://localhost:8080/"
        },
        "collapsed": true,
        "id": "rXGEkBrok5Tj",
        "outputId": "1684fb41-049e-4f55-9f3c-cbc4e5d4fc02"
      },
      "outputs": [
        {
          "output_type": "stream",
          "name": "stdout",
          "text": [
            "Collecting streamlit\n",
            "  Downloading streamlit-1.37.1-py2.py3-none-any.whl.metadata (8.5 kB)\n",
            "Requirement already satisfied: altair<6,>=4.0 in /usr/local/lib/python3.10/dist-packages (from streamlit) (4.2.2)\n",
            "Requirement already satisfied: blinker<2,>=1.0.0 in /usr/lib/python3/dist-packages (from streamlit) (1.4)\n",
            "Requirement already satisfied: cachetools<6,>=4.0 in /usr/local/lib/python3.10/dist-packages (from streamlit) (5.4.0)\n",
            "Requirement already satisfied: click<9,>=7.0 in /usr/local/lib/python3.10/dist-packages (from streamlit) (8.1.7)\n",
            "Requirement already satisfied: numpy<3,>=1.20 in /usr/local/lib/python3.10/dist-packages (from streamlit) (1.26.4)\n",
            "Requirement already satisfied: packaging<25,>=20 in /usr/local/lib/python3.10/dist-packages (from streamlit) (24.1)\n",
            "Requirement already satisfied: pandas<3,>=1.3.0 in /usr/local/lib/python3.10/dist-packages (from streamlit) (2.1.4)\n",
            "Requirement already satisfied: pillow<11,>=7.1.0 in /usr/local/lib/python3.10/dist-packages (from streamlit) (9.4.0)\n",
            "Requirement already satisfied: protobuf<6,>=3.20 in /usr/local/lib/python3.10/dist-packages (from streamlit) (3.20.3)\n",
            "Requirement already satisfied: pyarrow>=7.0 in /usr/local/lib/python3.10/dist-packages (from streamlit) (14.0.2)\n",
            "Requirement already satisfied: requests<3,>=2.27 in /usr/local/lib/python3.10/dist-packages (from streamlit) (2.32.3)\n",
            "Requirement already satisfied: rich<14,>=10.14.0 in /usr/local/lib/python3.10/dist-packages (from streamlit) (13.7.1)\n",
            "Collecting tenacity<9,>=8.1.0 (from streamlit)\n",
            "  Downloading tenacity-8.5.0-py3-none-any.whl.metadata (1.2 kB)\n",
            "Requirement already satisfied: toml<2,>=0.10.1 in /usr/local/lib/python3.10/dist-packages (from streamlit) (0.10.2)\n",
            "Requirement already satisfied: typing-extensions<5,>=4.3.0 in /usr/local/lib/python3.10/dist-packages (from streamlit) (4.12.2)\n",
            "Collecting gitpython!=3.1.19,<4,>=3.0.7 (from streamlit)\n",
            "  Downloading GitPython-3.1.43-py3-none-any.whl.metadata (13 kB)\n",
            "Collecting pydeck<1,>=0.8.0b4 (from streamlit)\n",
            "  Downloading pydeck-0.9.1-py2.py3-none-any.whl.metadata (4.1 kB)\n",
            "Requirement already satisfied: tornado<7,>=6.0.3 in /usr/local/lib/python3.10/dist-packages (from streamlit) (6.3.3)\n",
            "Collecting watchdog<5,>=2.1.5 (from streamlit)\n",
            "  Downloading watchdog-4.0.2-py3-none-manylinux2014_x86_64.whl.metadata (38 kB)\n",
            "Requirement already satisfied: entrypoints in /usr/local/lib/python3.10/dist-packages (from altair<6,>=4.0->streamlit) (0.4)\n",
            "Requirement already satisfied: jinja2 in /usr/local/lib/python3.10/dist-packages (from altair<6,>=4.0->streamlit) (3.1.4)\n",
            "Requirement already satisfied: jsonschema>=3.0 in /usr/local/lib/python3.10/dist-packages (from altair<6,>=4.0->streamlit) (4.23.0)\n",
            "Requirement already satisfied: toolz in /usr/local/lib/python3.10/dist-packages (from altair<6,>=4.0->streamlit) (0.12.1)\n",
            "Collecting gitdb<5,>=4.0.1 (from gitpython!=3.1.19,<4,>=3.0.7->streamlit)\n",
            "  Downloading gitdb-4.0.11-py3-none-any.whl.metadata (1.2 kB)\n",
            "Requirement already satisfied: python-dateutil>=2.8.2 in /usr/local/lib/python3.10/dist-packages (from pandas<3,>=1.3.0->streamlit) (2.8.2)\n",
            "Requirement already satisfied: pytz>=2020.1 in /usr/local/lib/python3.10/dist-packages (from pandas<3,>=1.3.0->streamlit) (2024.1)\n",
            "Requirement already satisfied: tzdata>=2022.1 in /usr/local/lib/python3.10/dist-packages (from pandas<3,>=1.3.0->streamlit) (2024.1)\n",
            "Requirement already satisfied: charset-normalizer<4,>=2 in /usr/local/lib/python3.10/dist-packages (from requests<3,>=2.27->streamlit) (3.3.2)\n",
            "Requirement already satisfied: idna<4,>=2.5 in /usr/local/lib/python3.10/dist-packages (from requests<3,>=2.27->streamlit) (3.7)\n",
            "Requirement already satisfied: urllib3<3,>=1.21.1 in /usr/local/lib/python3.10/dist-packages (from requests<3,>=2.27->streamlit) (2.0.7)\n",
            "Requirement already satisfied: certifi>=2017.4.17 in /usr/local/lib/python3.10/dist-packages (from requests<3,>=2.27->streamlit) (2024.7.4)\n",
            "Requirement already satisfied: markdown-it-py>=2.2.0 in /usr/local/lib/python3.10/dist-packages (from rich<14,>=10.14.0->streamlit) (3.0.0)\n",
            "Requirement already satisfied: pygments<3.0.0,>=2.13.0 in /usr/local/lib/python3.10/dist-packages (from rich<14,>=10.14.0->streamlit) (2.16.1)\n",
            "Collecting smmap<6,>=3.0.1 (from gitdb<5,>=4.0.1->gitpython!=3.1.19,<4,>=3.0.7->streamlit)\n",
            "  Downloading smmap-5.0.1-py3-none-any.whl.metadata (4.3 kB)\n",
            "Requirement already satisfied: MarkupSafe>=2.0 in /usr/local/lib/python3.10/dist-packages (from jinja2->altair<6,>=4.0->streamlit) (2.1.5)\n",
            "Requirement already satisfied: attrs>=22.2.0 in /usr/local/lib/python3.10/dist-packages (from jsonschema>=3.0->altair<6,>=4.0->streamlit) (24.2.0)\n",
            "Requirement already satisfied: jsonschema-specifications>=2023.03.6 in /usr/local/lib/python3.10/dist-packages (from jsonschema>=3.0->altair<6,>=4.0->streamlit) (2023.12.1)\n",
            "Requirement already satisfied: referencing>=0.28.4 in /usr/local/lib/python3.10/dist-packages (from jsonschema>=3.0->altair<6,>=4.0->streamlit) (0.35.1)\n",
            "Requirement already satisfied: rpds-py>=0.7.1 in /usr/local/lib/python3.10/dist-packages (from jsonschema>=3.0->altair<6,>=4.0->streamlit) (0.20.0)\n",
            "Requirement already satisfied: mdurl~=0.1 in /usr/local/lib/python3.10/dist-packages (from markdown-it-py>=2.2.0->rich<14,>=10.14.0->streamlit) (0.1.2)\n",
            "Requirement already satisfied: six>=1.5 in /usr/local/lib/python3.10/dist-packages (from python-dateutil>=2.8.2->pandas<3,>=1.3.0->streamlit) (1.16.0)\n",
            "Downloading streamlit-1.37.1-py2.py3-none-any.whl (8.7 MB)\n",
            "\u001b[2K   \u001b[90m━━━━━━━━━━━━━━━━━━━━━━━━━━━━━━━━━━━━━━━━\u001b[0m \u001b[32m8.7/8.7 MB\u001b[0m \u001b[31m72.7 MB/s\u001b[0m eta \u001b[36m0:00:00\u001b[0m\n",
            "\u001b[?25hDownloading GitPython-3.1.43-py3-none-any.whl (207 kB)\n",
            "\u001b[2K   \u001b[90m━━━━━━━━━━━━━━━━━━━━━━━━━━━━━━━━━━━━━━━━\u001b[0m \u001b[32m207.3/207.3 kB\u001b[0m \u001b[31m15.4 MB/s\u001b[0m eta \u001b[36m0:00:00\u001b[0m\n",
            "\u001b[?25hDownloading pydeck-0.9.1-py2.py3-none-any.whl (6.9 MB)\n",
            "\u001b[2K   \u001b[90m━━━━━━━━━━━━━━━━━━━━━━━━━━━━━━━━━━━━━━━━\u001b[0m \u001b[32m6.9/6.9 MB\u001b[0m \u001b[31m66.0 MB/s\u001b[0m eta \u001b[36m0:00:00\u001b[0m\n",
            "\u001b[?25hDownloading tenacity-8.5.0-py3-none-any.whl (28 kB)\n",
            "Downloading watchdog-4.0.2-py3-none-manylinux2014_x86_64.whl (82 kB)\n",
            "\u001b[2K   \u001b[90m━━━━━━━━━━━━━━━━━━━━━━━━━━━━━━━━━━━━━━━━\u001b[0m \u001b[32m82.9/82.9 kB\u001b[0m \u001b[31m5.6 MB/s\u001b[0m eta \u001b[36m0:00:00\u001b[0m\n",
            "\u001b[?25hDownloading gitdb-4.0.11-py3-none-any.whl (62 kB)\n",
            "\u001b[2K   \u001b[90m━━━━━━━━━━━━━━━━━━━━━━━━━━━━━━━━━━━━━━━━\u001b[0m \u001b[32m62.7/62.7 kB\u001b[0m \u001b[31m4.3 MB/s\u001b[0m eta \u001b[36m0:00:00\u001b[0m\n",
            "\u001b[?25hDownloading smmap-5.0.1-py3-none-any.whl (24 kB)\n",
            "Installing collected packages: watchdog, tenacity, smmap, pydeck, gitdb, gitpython, streamlit\n",
            "  Attempting uninstall: tenacity\n",
            "    Found existing installation: tenacity 9.0.0\n",
            "    Uninstalling tenacity-9.0.0:\n",
            "      Successfully uninstalled tenacity-9.0.0\n",
            "Successfully installed gitdb-4.0.11 gitpython-3.1.43 pydeck-0.9.1 smmap-5.0.1 streamlit-1.37.1 tenacity-8.5.0 watchdog-4.0.2\n"
          ]
        }
      ],
      "source": [
        "!pip install streamlit"
      ]
    },
    {
      "cell_type": "code",
      "execution_count": 68,
      "metadata": {
        "id": "9rUX9XftkN-A"
      },
      "outputs": [],
      "source": [
        "# Importations des bibliothèques necessaires\n",
        "\n",
        "import pandas as pd # pandas pour charger et explorer les données\n",
        "import numpy as np\n",
        "import seaborn as sns\n",
        "from nltk.corpus import stopwords\n",
        "from nltk.tokenize import word_tokenize\n",
        "import nltk\n",
        "import re\n",
        "import matplotlib.pyplot as plt\n",
        "from mpl_toolkits.mplot3d import Axes3D\n",
        "from nltk.sentiment import SentimentIntensityAnalyzer\n",
        "from sklearn.model_selection import train_test_split\n",
        "import tensorflow as tf\n",
        "from tensorflow.keras.preprocessing.text import Tokenizer\n",
        "from tensorflow.keras.preprocessing.sequence import pad_sequences\n",
        "from tensorflow.keras.models import Sequential\n",
        "from tensorflow.keras.layers import Embedding, LSTM, Dense\n",
        "from sklearn.feature_extraction.text import CountVectorizer\n",
        "from sklearn.ensemble import RandomForestClassifier\n",
        "import streamlit as st"
      ]
    },
    {
      "cell_type": "markdown",
      "metadata": {
        "id": "HYJfht23lIQh"
      },
      "source": [
        "# **Importation des données**"
      ]
    },
    {
      "cell_type": "code",
      "execution_count": 5,
      "metadata": {
        "id": "yRn4iSHuxP8U"
      },
      "outputs": [],
      "source": [
        "#Charger le fichier d'entraînement\n",
        "df_train = pd.read_parquet('/content/drive/My Drive/train-00000-of-00001.parquet')\n",
        "\n",
        "# Charger le fichier de test\n",
        "df_test= pd.read_parquet('/content/drive/My Drive/test-00000-of-00001.parquet')\n",
        "\n",
        "# df_train = pd.read_parquet('train-00000-of-00001.parquet')\n",
        "#df = pd.read_parquet('test-00000-of-00001.parquet')"
      ]
    },
    {
      "cell_type": "markdown",
      "metadata": {
        "id": "dyFpf7fNlVIq"
      },
      "source": [
        "# **Exploration des données**"
      ]
    },
    {
      "cell_type": "code",
      "execution_count": 6,
      "metadata": {
        "colab": {
          "base_uri": "https://localhost:8080/"
        },
        "id": "aopyPX33lQnY",
        "outputId": "7127f3ac-053c-4442-f8c0-37ba115dfd89"
      },
      "outputs": [
        {
          "output_type": "stream",
          "name": "stdout",
          "text": [
            " Train Data:\n",
            "   label                                               text\n",
            "0      4  dr. goldberg offers everything i look for in a...\n",
            "1      1  Unfortunately, the frustration of being Dr. Go...\n",
            "2      3  Been going to Dr. Goldberg for over 10 years. ...\n",
            "3      3  Got a letter in the mail last week that said D...\n",
            "4      0  I don't know what Dr. Goldberg was like before...\n",
            "5      4  Top notch doctor in a top notch practice. Can'...\n",
            "6      4  Dr. Eric Goldberg is a fantastic doctor who ha...\n",
            "<class 'pandas.core.frame.DataFrame'>\n",
            "RangeIndex: 650000 entries, 0 to 649999\n",
            "Data columns (total 2 columns):\n",
            " #   Column  Non-Null Count   Dtype \n",
            "---  ------  --------------   ----- \n",
            " 0   label   650000 non-null  int64 \n",
            " 1   text    650000 non-null  object\n",
            "dtypes: int64(1), object(1)\n",
            "memory usage: 9.9+ MB\n",
            "None\n",
            "Test Data:\n",
            "   label                                               text\n",
            "0      0  I got 'new' tires from them and within two wee...\n",
            "1      0  Don't waste your time.  We had two different p...\n",
            "2      0  All I can say is the worst! We were the only 2...\n",
            "3      0  I have been to this restaurant twice and was d...\n",
            "4      0  Food was NOT GOOD at all! My husband & I ate h...\n",
            "5      2  This is a tiny Starbucks and it locations like...\n",
            "6      1  Typical Starbucks coffee chain. 2 things I don...\n",
            "<class 'pandas.core.frame.DataFrame'>\n",
            "RangeIndex: 50000 entries, 0 to 49999\n",
            "Data columns (total 2 columns):\n",
            " #   Column  Non-Null Count  Dtype \n",
            "---  ------  --------------  ----- \n",
            " 0   label   50000 non-null  int64 \n",
            " 1   text    50000 non-null  object\n",
            "dtypes: int64(1), object(1)\n",
            "memory usage: 781.4+ KB\n",
            "None\n"
          ]
        }
      ],
      "source": [
        "print(\" Train Data:\")\n",
        "print(df_train.head(7))\n",
        "print(df_train.info())\n",
        "\n",
        "\n",
        "print(\"Test Data:\")\n",
        "print(df_test.head(7))\n",
        "print(df_test.info())"
      ]
    },
    {
      "cell_type": "markdown",
      "metadata": {
        "id": "LjFOnNYjlfX2"
      },
      "source": [
        "**Observation** : Les données fournies présentent une structure standard avec deux colonnes, \"label\" et \"text\", et une répartition entre un ensemble d'entraînement (650 000 entrées) et un ensemble de test (50 000 entrées).\n",
        "La colonne \"label\" est de type \"int64\", indiquant que les sentiments sont représentés par des nombres entiers.\n",
        "La colonne \"text\" est de type \"object\", ce qui est typique pour stocker des chaînes de caractères dans pandas.\n",
        "\n",
        "Cependant, les labels (étiquettes) indiquent une classification à 5 (de 0  à 4) classes, et les exemples de texte sont en anglais."
      ]
    },
    {
      "cell_type": "markdown",
      "source": [
        "Comme l'ensemble de données d'origine est trop volumineux pour tenir en mémoire de ma machine d'un seul coup, j'ai décidé d'extraire 5 000 entrées en utilisant un échantillonnage stratifié pour garantir que la proportion des différentes catégories dans les données d'origine reste la même dans l'échantillon."
      ],
      "metadata": {
        "id": "z3Jj2VMDrIyO"
      }
    },
    {
      "cell_type": "code",
      "source": [
        "# Identifiez la colonne qui représente la catégorie\n",
        "category_column = 'label'\n",
        "\n",
        "# Calculer la fraction à échantillonner (5000 / nombre total de lignes)\n",
        "fraction = 5000 / len(df_test)\n",
        "\n",
        "# Effectuer un échantillonnage stratifié\n",
        "df_sample = df_test.groupby(category_column, group_keys=False).apply(lambda x: x.sample(frac=fraction, random_state=42))\n",
        "\n",
        "df_sample.shape"
      ],
      "metadata": {
        "colab": {
          "base_uri": "https://localhost:8080/"
        },
        "id": "6GlZ0LCjrH-r",
        "outputId": "8d17eb6f-0a59-494a-ee5d-5a78b61787a8"
      },
      "execution_count": 7,
      "outputs": [
        {
          "output_type": "execute_result",
          "data": {
            "text/plain": [
              "(5000, 2)"
            ]
          },
          "metadata": {},
          "execution_count": 7
        }
      ]
    },
    {
      "cell_type": "code",
      "source": [
        "print(\"Sample Data:\")\n",
        "print(df_sample.head(7))\n",
        "print(df_sample.info())"
      ],
      "metadata": {
        "colab": {
          "base_uri": "https://localhost:8080/"
        },
        "id": "bMoV5skR0JMw",
        "outputId": "59abb5cc-a2fb-41ca-937f-d7cbdcd647e4"
      },
      "execution_count": 8,
      "outputs": [
        {
          "output_type": "stream",
          "name": "stdout",
          "text": [
            "Sample Data:\n",
            "       label                                               text\n",
            "31873      0  It was my first day at job. I have to reach at...\n",
            "23072      0  Never, never again!!  First of all... The only...\n",
            "7706       0  Used this place before and was satisfied with ...\n",
            "23399      0  Horrible worst service I've ever had. Slow no ...\n",
            "22243      0  FIRST -- As I browse the reviews I can't help ...\n",
            "32246      0  I got acrylics by who I believe to be the owne...\n",
            "2766       0  R.I.P. Salads N' Such... if you're looking for...\n",
            "<class 'pandas.core.frame.DataFrame'>\n",
            "Index: 5000 entries, 31873 to 41181\n",
            "Data columns (total 2 columns):\n",
            " #   Column  Non-Null Count  Dtype \n",
            "---  ------  --------------  ----- \n",
            " 0   label   5000 non-null   int64 \n",
            " 1   text    5000 non-null   object\n",
            "dtypes: int64(1), object(1)\n",
            "memory usage: 117.2+ KB\n",
            "None\n"
          ]
        }
      ]
    },
    {
      "cell_type": "code",
      "source": [
        "# Obtenez des catégories uniques de la variable cible 'label' et imprimez-les\n",
        "categories = df_sample['label'].unique()\n",
        "print(f\"Categories in '{'label'}':\")\n",
        "for category in categories:\n",
        "    print(category)"
      ],
      "metadata": {
        "colab": {
          "base_uri": "https://localhost:8080/"
        },
        "id": "91L1bxJ40wYl",
        "outputId": "2bd5e781-4f67-4c9e-8536-2246fbbc523e"
      },
      "execution_count": 9,
      "outputs": [
        {
          "output_type": "stream",
          "name": "stdout",
          "text": [
            "Categories in 'label':\n",
            "0\n",
            "1\n",
            "2\n",
            "3\n",
            "4\n"
          ]
        }
      ]
    },
    {
      "cell_type": "code",
      "source": [
        "# Vérifier la distribution\n",
        "original_distribution = df_test['label'].value_counts(normalize=True)\n",
        "sample_distribution = df_sample['label'].value_counts(normalize=True)\n",
        "\n",
        "print(\"Original distribution:\")\n",
        "print(original_distribution)\n",
        "print(\"\\nSample distribution:\")\n",
        "print(sample_distribution)"
      ],
      "metadata": {
        "colab": {
          "base_uri": "https://localhost:8080/"
        },
        "id": "adPbkqF2zmks",
        "outputId": "90f3d1ad-b84d-481b-d728-3f93dd1e9ed1"
      },
      "execution_count": 10,
      "outputs": [
        {
          "output_type": "stream",
          "name": "stdout",
          "text": [
            "Original distribution:\n",
            "label\n",
            "0    0.2\n",
            "2    0.2\n",
            "1    0.2\n",
            "3    0.2\n",
            "4    0.2\n",
            "Name: proportion, dtype: float64\n",
            "\n",
            "Sample distribution:\n",
            "label\n",
            "0    0.2\n",
            "1    0.2\n",
            "2    0.2\n",
            "3    0.2\n",
            "4    0.2\n",
            "Name: proportion, dtype: float64\n"
          ]
        }
      ]
    },
    {
      "cell_type": "markdown",
      "source": [
        "Les résultats de distribution montrent que l'ensemble de données d'origine et l'ensemble de données échantillonné contiennent 5 étiquettes (0 à 4), chacune représentant exactement 20 % des données. Cet équilibre parfait a été maintenu dans le processus d'échantillonnage, démontrant le succès de la technique d'échantillonnage stratifié. L'ensemble de données échantillonné reflète avec précision la distribution des données d'origine, ce qui est idéal pour les tâches d'apprentissage automatique, en particulier les problèmes de classification."
      ],
      "metadata": {
        "id": "vqZF6RNG24C1"
      }
    },
    {
      "cell_type": "markdown",
      "metadata": {
        "id": "T_tFc5-flrvO"
      },
      "source": [
        "# **Prétraitement des données**"
      ]
    },
    {
      "cell_type": "code",
      "execution_count": 11,
      "metadata": {
        "colab": {
          "base_uri": "https://localhost:8080/"
        },
        "id": "zf1sMdw9lhI2",
        "outputId": "ea9e6fec-0bfd-486c-d1e8-55ecb888d809"
      },
      "outputs": [
        {
          "output_type": "stream",
          "name": "stderr",
          "text": [
            "[nltk_data] Downloading package stopwords to /root/nltk_data...\n",
            "[nltk_data]   Unzipping corpora/stopwords.zip.\n",
            "[nltk_data] Downloading package punkt to /root/nltk_data...\n",
            "[nltk_data]   Unzipping tokenizers/punkt.zip.\n",
            "[nltk_data] Downloading package punkt_tab to /root/nltk_data...\n",
            "[nltk_data]   Unzipping tokenizers/punkt_tab.zip.\n",
            "[nltk_data] Downloading package vader_lexicon to /root/nltk_data...\n"
          ]
        },
        {
          "output_type": "execute_result",
          "data": {
            "text/plain": [
              "True"
            ]
          },
          "metadata": {},
          "execution_count": 11
        }
      ],
      "source": [
        "nltk.download('stopwords')\n",
        "nltk.download('punkt')\n",
        "nltk.download('punkt_tab')\n",
        "stop_words = set(stopwords.words('english')) # utiliser les stop words anglais puisque les exemples de texte sont en anglais\n",
        "# Download the NLTK vader lexicon\n",
        "nltk.download('vader_lexicon')"
      ]
    },
    {
      "cell_type": "code",
      "execution_count": 12,
      "metadata": {
        "id": "eDLqsM4Ml4EB"
      },
      "outputs": [],
      "source": [
        " # Le prétraitement inclut la suppression de la ponctuation, URLs,\n",
        " # hashtags, mentions d'utlisateurs et  la conversion en minuscules,\n",
        " # la tokenization et la suppression des stop words\n",
        "\n",
        " # definir une fonction de prétraitement de texte\n",
        "def preprocess_text(text):\n",
        "    # Supprimer les caractères spéciaux\n",
        "    text = re.sub(r'[^\\w\\s]', '', text)\n",
        "\n",
        "    # Supprimer les URLs\n",
        "    text = re.sub(r'http\\S+', '', text)\n",
        "\n",
        "    # Supprimer les hashtags (mots commençant par #)\n",
        "    text = re.sub(r'#\\w+', '', text)\n",
        "\n",
        "    # Supprimer les mentions d'utilisateurs (mots commençant par @)\n",
        "    text = re.sub(r'@\\w+', '', text)\n",
        "\n",
        "    # Convertir en minuscules\n",
        "    text = text.lower()\n",
        "\n",
        "    # Tokenization\n",
        "    # Exemple d'utilisation de la fonction word_tokenize\n",
        "    # supposons que text = \"Check out this awesome #Python tutorial by @katwa! #programming https://www.example.com\"\n",
        "    # tokens va retourner un vecteur de mot individuel ['check', 'out', 'this', 'awesome', 'python', 'tutorial', 'by', 'katwa', 'programming']\n",
        "    tokens = word_tokenize(text)\n",
        "\n",
        "    # Supprimer les stop words (mots vides) du texte tokenisé. Exemple des mots vide dans le text ('out', 'this', 'by')\n",
        "    # qui sont souvent supprimés lors du traitement de texte pour analyser le contenu principal\n",
        "    tokens = [word for word in tokens if word not in stop_words] # Resultat: ['check', 'awesome', 'python', 'tutorial', 'katwa', 'programming']\n",
        "    return ' '.join(tokens) # Retourne une chaîne unique en joignant tous les mots traités avec un espace (check awesome python tutorial katwa programming)"
      ]
    },
    {
      "cell_type": "code",
      "execution_count": 13,
      "metadata": {
        "id": "8GjyzwVel_f-"
      },
      "outputs": [],
      "source": [
        "# Appliquer la fonction de prétraitement 'preprocess_text' à les colonnes'text' du dataframe 'df_sample' et\n",
        "# stocker le résultat dans une nouvelle colonne appelée 'processed_text'\n",
        "\n",
        "df_sample['processed_text'] = df_sample['text'].apply(preprocess_text)\n"
      ]
    },
    {
      "cell_type": "code",
      "source": [
        "# Le brassage (Shuffling) des données expose le modèle à différents modèles et relations dans les données\n",
        "# afin d'améliorer ses performances et sa généralisation sur des données invisible\n",
        "df_sample_shuffled = df_sample.sample(frac=1, random_state=42).reset_index(drop=True)\n",
        "\n",
        "# Créer une copy du dataframe\n",
        "df = df_sample_shuffled.copy()"
      ],
      "metadata": {
        "id": "mtABXWwxl8Yt"
      },
      "execution_count": 14,
      "outputs": []
    },
    {
      "cell_type": "code",
      "source": [
        "df.head()"
      ],
      "metadata": {
        "colab": {
          "base_uri": "https://localhost:8080/",
          "height": 206
        },
        "id": "5PJWKPQZVTnW",
        "outputId": "c08b6324-47d2-4661-f350-932bfb41196e"
      },
      "execution_count": 15,
      "outputs": [
        {
          "output_type": "execute_result",
          "data": {
            "text/plain": [
              "   label                                               text  \\\n",
              "0      1  This buffet was sad times considering the othe...   \n",
              "1      2  This is for the club portion:\\n- Dark\\n- Expen...   \n",
              "2      2  Lots to do in the hotel/casino, but it's just ...   \n",
              "3      1  I prefer the El Hefe on Mill for having more s...   \n",
              "4      0  The food was good a bit overpriced but whateve...   \n",
              "\n",
              "                                      processed_text  \n",
              "0  buffet sad times considering fabulous buffets ...  \n",
              "1  club portionn darkn expensiven weak drinksn sm...  \n",
              "2                    lots hotelcasino isolated strip  \n",
              "3  prefer el hefe mill space nicer staff place pr...  \n",
              "4  food good bit overpriced whatever problem serv...  "
            ],
            "text/html": [
              "\n",
              "  <div id=\"df-1cf510bb-bbee-429a-8201-ec4a2ccfe707\" class=\"colab-df-container\">\n",
              "    <div>\n",
              "<style scoped>\n",
              "    .dataframe tbody tr th:only-of-type {\n",
              "        vertical-align: middle;\n",
              "    }\n",
              "\n",
              "    .dataframe tbody tr th {\n",
              "        vertical-align: top;\n",
              "    }\n",
              "\n",
              "    .dataframe thead th {\n",
              "        text-align: right;\n",
              "    }\n",
              "</style>\n",
              "<table border=\"1\" class=\"dataframe\">\n",
              "  <thead>\n",
              "    <tr style=\"text-align: right;\">\n",
              "      <th></th>\n",
              "      <th>label</th>\n",
              "      <th>text</th>\n",
              "      <th>processed_text</th>\n",
              "    </tr>\n",
              "  </thead>\n",
              "  <tbody>\n",
              "    <tr>\n",
              "      <th>0</th>\n",
              "      <td>1</td>\n",
              "      <td>This buffet was sad times considering the othe...</td>\n",
              "      <td>buffet sad times considering fabulous buffets ...</td>\n",
              "    </tr>\n",
              "    <tr>\n",
              "      <th>1</th>\n",
              "      <td>2</td>\n",
              "      <td>This is for the club portion:\\n- Dark\\n- Expen...</td>\n",
              "      <td>club portionn darkn expensiven weak drinksn sm...</td>\n",
              "    </tr>\n",
              "    <tr>\n",
              "      <th>2</th>\n",
              "      <td>2</td>\n",
              "      <td>Lots to do in the hotel/casino, but it's just ...</td>\n",
              "      <td>lots hotelcasino isolated strip</td>\n",
              "    </tr>\n",
              "    <tr>\n",
              "      <th>3</th>\n",
              "      <td>1</td>\n",
              "      <td>I prefer the El Hefe on Mill for having more s...</td>\n",
              "      <td>prefer el hefe mill space nicer staff place pr...</td>\n",
              "    </tr>\n",
              "    <tr>\n",
              "      <th>4</th>\n",
              "      <td>0</td>\n",
              "      <td>The food was good a bit overpriced but whateve...</td>\n",
              "      <td>food good bit overpriced whatever problem serv...</td>\n",
              "    </tr>\n",
              "  </tbody>\n",
              "</table>\n",
              "</div>\n",
              "    <div class=\"colab-df-buttons\">\n",
              "\n",
              "  <div class=\"colab-df-container\">\n",
              "    <button class=\"colab-df-convert\" onclick=\"convertToInteractive('df-1cf510bb-bbee-429a-8201-ec4a2ccfe707')\"\n",
              "            title=\"Convert this dataframe to an interactive table.\"\n",
              "            style=\"display:none;\">\n",
              "\n",
              "  <svg xmlns=\"http://www.w3.org/2000/svg\" height=\"24px\" viewBox=\"0 -960 960 960\">\n",
              "    <path d=\"M120-120v-720h720v720H120Zm60-500h600v-160H180v160Zm220 220h160v-160H400v160Zm0 220h160v-160H400v160ZM180-400h160v-160H180v160Zm440 0h160v-160H620v160ZM180-180h160v-160H180v160Zm440 0h160v-160H620v160Z\"/>\n",
              "  </svg>\n",
              "    </button>\n",
              "\n",
              "  <style>\n",
              "    .colab-df-container {\n",
              "      display:flex;\n",
              "      gap: 12px;\n",
              "    }\n",
              "\n",
              "    .colab-df-convert {\n",
              "      background-color: #E8F0FE;\n",
              "      border: none;\n",
              "      border-radius: 50%;\n",
              "      cursor: pointer;\n",
              "      display: none;\n",
              "      fill: #1967D2;\n",
              "      height: 32px;\n",
              "      padding: 0 0 0 0;\n",
              "      width: 32px;\n",
              "    }\n",
              "\n",
              "    .colab-df-convert:hover {\n",
              "      background-color: #E2EBFA;\n",
              "      box-shadow: 0px 1px 2px rgba(60, 64, 67, 0.3), 0px 1px 3px 1px rgba(60, 64, 67, 0.15);\n",
              "      fill: #174EA6;\n",
              "    }\n",
              "\n",
              "    .colab-df-buttons div {\n",
              "      margin-bottom: 4px;\n",
              "    }\n",
              "\n",
              "    [theme=dark] .colab-df-convert {\n",
              "      background-color: #3B4455;\n",
              "      fill: #D2E3FC;\n",
              "    }\n",
              "\n",
              "    [theme=dark] .colab-df-convert:hover {\n",
              "      background-color: #434B5C;\n",
              "      box-shadow: 0px 1px 3px 1px rgba(0, 0, 0, 0.15);\n",
              "      filter: drop-shadow(0px 1px 2px rgba(0, 0, 0, 0.3));\n",
              "      fill: #FFFFFF;\n",
              "    }\n",
              "  </style>\n",
              "\n",
              "    <script>\n",
              "      const buttonEl =\n",
              "        document.querySelector('#df-1cf510bb-bbee-429a-8201-ec4a2ccfe707 button.colab-df-convert');\n",
              "      buttonEl.style.display =\n",
              "        google.colab.kernel.accessAllowed ? 'block' : 'none';\n",
              "\n",
              "      async function convertToInteractive(key) {\n",
              "        const element = document.querySelector('#df-1cf510bb-bbee-429a-8201-ec4a2ccfe707');\n",
              "        const dataTable =\n",
              "          await google.colab.kernel.invokeFunction('convertToInteractive',\n",
              "                                                    [key], {});\n",
              "        if (!dataTable) return;\n",
              "\n",
              "        const docLinkHtml = 'Like what you see? Visit the ' +\n",
              "          '<a target=\"_blank\" href=https://colab.research.google.com/notebooks/data_table.ipynb>data table notebook</a>'\n",
              "          + ' to learn more about interactive tables.';\n",
              "        element.innerHTML = '';\n",
              "        dataTable['output_type'] = 'display_data';\n",
              "        await google.colab.output.renderOutput(dataTable, element);\n",
              "        const docLink = document.createElement('div');\n",
              "        docLink.innerHTML = docLinkHtml;\n",
              "        element.appendChild(docLink);\n",
              "      }\n",
              "    </script>\n",
              "  </div>\n",
              "\n",
              "\n",
              "<div id=\"df-389cdd4f-0c90-417f-89c7-9d5a08f2a095\">\n",
              "  <button class=\"colab-df-quickchart\" onclick=\"quickchart('df-389cdd4f-0c90-417f-89c7-9d5a08f2a095')\"\n",
              "            title=\"Suggest charts\"\n",
              "            style=\"display:none;\">\n",
              "\n",
              "<svg xmlns=\"http://www.w3.org/2000/svg\" height=\"24px\"viewBox=\"0 0 24 24\"\n",
              "     width=\"24px\">\n",
              "    <g>\n",
              "        <path d=\"M19 3H5c-1.1 0-2 .9-2 2v14c0 1.1.9 2 2 2h14c1.1 0 2-.9 2-2V5c0-1.1-.9-2-2-2zM9 17H7v-7h2v7zm4 0h-2V7h2v10zm4 0h-2v-4h2v4z\"/>\n",
              "    </g>\n",
              "</svg>\n",
              "  </button>\n",
              "\n",
              "<style>\n",
              "  .colab-df-quickchart {\n",
              "      --bg-color: #E8F0FE;\n",
              "      --fill-color: #1967D2;\n",
              "      --hover-bg-color: #E2EBFA;\n",
              "      --hover-fill-color: #174EA6;\n",
              "      --disabled-fill-color: #AAA;\n",
              "      --disabled-bg-color: #DDD;\n",
              "  }\n",
              "\n",
              "  [theme=dark] .colab-df-quickchart {\n",
              "      --bg-color: #3B4455;\n",
              "      --fill-color: #D2E3FC;\n",
              "      --hover-bg-color: #434B5C;\n",
              "      --hover-fill-color: #FFFFFF;\n",
              "      --disabled-bg-color: #3B4455;\n",
              "      --disabled-fill-color: #666;\n",
              "  }\n",
              "\n",
              "  .colab-df-quickchart {\n",
              "    background-color: var(--bg-color);\n",
              "    border: none;\n",
              "    border-radius: 50%;\n",
              "    cursor: pointer;\n",
              "    display: none;\n",
              "    fill: var(--fill-color);\n",
              "    height: 32px;\n",
              "    padding: 0;\n",
              "    width: 32px;\n",
              "  }\n",
              "\n",
              "  .colab-df-quickchart:hover {\n",
              "    background-color: var(--hover-bg-color);\n",
              "    box-shadow: 0 1px 2px rgba(60, 64, 67, 0.3), 0 1px 3px 1px rgba(60, 64, 67, 0.15);\n",
              "    fill: var(--button-hover-fill-color);\n",
              "  }\n",
              "\n",
              "  .colab-df-quickchart-complete:disabled,\n",
              "  .colab-df-quickchart-complete:disabled:hover {\n",
              "    background-color: var(--disabled-bg-color);\n",
              "    fill: var(--disabled-fill-color);\n",
              "    box-shadow: none;\n",
              "  }\n",
              "\n",
              "  .colab-df-spinner {\n",
              "    border: 2px solid var(--fill-color);\n",
              "    border-color: transparent;\n",
              "    border-bottom-color: var(--fill-color);\n",
              "    animation:\n",
              "      spin 1s steps(1) infinite;\n",
              "  }\n",
              "\n",
              "  @keyframes spin {\n",
              "    0% {\n",
              "      border-color: transparent;\n",
              "      border-bottom-color: var(--fill-color);\n",
              "      border-left-color: var(--fill-color);\n",
              "    }\n",
              "    20% {\n",
              "      border-color: transparent;\n",
              "      border-left-color: var(--fill-color);\n",
              "      border-top-color: var(--fill-color);\n",
              "    }\n",
              "    30% {\n",
              "      border-color: transparent;\n",
              "      border-left-color: var(--fill-color);\n",
              "      border-top-color: var(--fill-color);\n",
              "      border-right-color: var(--fill-color);\n",
              "    }\n",
              "    40% {\n",
              "      border-color: transparent;\n",
              "      border-right-color: var(--fill-color);\n",
              "      border-top-color: var(--fill-color);\n",
              "    }\n",
              "    60% {\n",
              "      border-color: transparent;\n",
              "      border-right-color: var(--fill-color);\n",
              "    }\n",
              "    80% {\n",
              "      border-color: transparent;\n",
              "      border-right-color: var(--fill-color);\n",
              "      border-bottom-color: var(--fill-color);\n",
              "    }\n",
              "    90% {\n",
              "      border-color: transparent;\n",
              "      border-bottom-color: var(--fill-color);\n",
              "    }\n",
              "  }\n",
              "</style>\n",
              "\n",
              "  <script>\n",
              "    async function quickchart(key) {\n",
              "      const quickchartButtonEl =\n",
              "        document.querySelector('#' + key + ' button');\n",
              "      quickchartButtonEl.disabled = true;  // To prevent multiple clicks.\n",
              "      quickchartButtonEl.classList.add('colab-df-spinner');\n",
              "      try {\n",
              "        const charts = await google.colab.kernel.invokeFunction(\n",
              "            'suggestCharts', [key], {});\n",
              "      } catch (error) {\n",
              "        console.error('Error during call to suggestCharts:', error);\n",
              "      }\n",
              "      quickchartButtonEl.classList.remove('colab-df-spinner');\n",
              "      quickchartButtonEl.classList.add('colab-df-quickchart-complete');\n",
              "    }\n",
              "    (() => {\n",
              "      let quickchartButtonEl =\n",
              "        document.querySelector('#df-389cdd4f-0c90-417f-89c7-9d5a08f2a095 button');\n",
              "      quickchartButtonEl.style.display =\n",
              "        google.colab.kernel.accessAllowed ? 'block' : 'none';\n",
              "    })();\n",
              "  </script>\n",
              "</div>\n",
              "\n",
              "    </div>\n",
              "  </div>\n"
            ],
            "application/vnd.google.colaboratory.intrinsic+json": {
              "type": "dataframe",
              "variable_name": "df",
              "summary": "{\n  \"name\": \"df\",\n  \"rows\": 5000,\n  \"fields\": [\n    {\n      \"column\": \"label\",\n      \"properties\": {\n        \"dtype\": \"number\",\n        \"std\": 1,\n        \"min\": 0,\n        \"max\": 4,\n        \"num_unique_values\": 5,\n        \"samples\": [\n          2,\n          4,\n          0\n        ],\n        \"semantic_type\": \"\",\n        \"description\": \"\"\n      }\n    },\n    {\n      \"column\": \"text\",\n      \"properties\": {\n        \"dtype\": \"string\",\n        \"num_unique_values\": 5000,\n        \"samples\": [\n          \"In a convient location for me between work and home.   Store is easy to get around, and find whatever you are looking for.  The store staff seems to be helpful the times I have came in.  I prefer the home depot up the road off of ray just because the staff is more knowledgeable, and have been more helpful to myself.\",\n          \"What happened to this place?  \\\\n\\\\nThey used to be so good, there were always nice and friendly baristas, the food was very simple, yet still very good.  But went in last time and I like to order the Veggie Hummus sandwich, but they forgot the cucumber and my bread stale and dry.  The sandwich was not worth my 7 bucks at all.  \\\\n\\\\nVery disappointed Fair Trade.\",\n          \"If I could give this place less than one star I would. Where to start, first off they re-heat old French fries in dirty oil. Even after I called back the second time to ask them not to. Their food is sub par and dirty. Now all that aside I had an issue with them messing up an order and called in to ask them to fix this, the girl over there was rude and defensive to my claims that the wrong toppings were placed on the burger we had ordered. I specifically said no tomato and she specifically repeated that back to me as we'll so I know it wasn't her fault. She passed me over to the manager who was really mad that he had to come to the phone and explained to him that the person is allergic to tomatoes and that we'd appreciate it if they could send us a new one...he said rudely \\\\\\\"no just scrape the fu@$ng tomato off. I told him that she's allergic and that there is still tomato all over even if we scrape it off. He said too fu&$% bad we're not sending you anything. I asked him why he was so mad and he said cause I'm fu%^# busy cooking wtf do you want and hung up. NOW THAT'S CUSTOMER SERVICE!! Bottom line aside from the fact the employees are so jaded and disgruntled the food is just nasty dirty re-used oil re-heat fries and just dirty!\"\n        ],\n        \"semantic_type\": \"\",\n        \"description\": \"\"\n      }\n    },\n    {\n      \"column\": \"processed_text\",\n      \"properties\": {\n        \"dtype\": \"string\",\n        \"num_unique_values\": 5000,\n        \"samples\": [\n          \"convient location work home store easy get around find whatever looking store staff seems helpful times came prefer home depot road ray staff knowledgeable helpful\",\n          \"happened place nnthey used good always nice friendly baristas food simple yet still good went last time like order veggie hummus sandwich forgot cucumber bread stale dry sandwich worth 7 bucks nnvery disappointed fair trade\",\n          \"could give place less one star would start first reheat old french fries dirty oil even called back second time ask food sub par dirty aside issue messing order called ask fix girl rude defensive claims wrong toppings placed burger ordered specifically said tomato specifically repeated back well know wasnt fault passed manager really mad come phone explained person allergic tomatoes wed appreciate could send us new onehe said rudely scrape fung tomato told shes allergic still tomato even scrape said fu bad sending anything asked mad said cause im fu busy cooking wtf want hung thats customer service bottom line aside fact employees jaded disgruntled food nasty dirty reused oil reheat fries dirty\"\n        ],\n        \"semantic_type\": \"\",\n        \"description\": \"\"\n      }\n    }\n  ]\n}"
            }
          },
          "metadata": {},
          "execution_count": 15
        }
      ]
    },
    {
      "cell_type": "code",
      "source": [
        "# Initialize the NLTK sentiment analyzer\n",
        "sia = SentimentIntensityAnalyzer()\n",
        "\n",
        "# Function to classify sentiment\n",
        "def get_sentiment(score):\n",
        "    if score > 0.05:\n",
        "        return 'Positive'\n",
        "    elif score < -0.05:\n",
        "        return 'Negative'\n",
        "    else:\n",
        "        return 'Neutral'\n",
        "\n",
        "# Perform sentiment analysis\n",
        "df['sentiment_scores'] = df['text'].apply(lambda x: sia.polarity_scores(x)['compound'])\n",
        "df['sentiment'] = df['sentiment_scores'].apply(get_sentiment)\n",
        "\n",
        "# Count the sentiments\n",
        "sentiment_counts = df['sentiment'].value_counts()\n",
        "\n",
        "# Set up the color palette\n",
        "colors = sns.color_palette(\"pastel\")[0:3]\n",
        "\n",
        "# Create the sophisticated pie chart\n",
        "fig, ax = plt.subplots(figsize=(8, 8), facecolor='#f0f0f0')\n",
        "ax.set_facecolor('#f0f0f0')\n",
        "\n",
        "# Create a donut chart\n",
        "wedges, texts, autotexts = ax.pie(sentiment_counts.values,\n",
        "                                  labels=sentiment_counts.index,\n",
        "                                  colors=colors,\n",
        "                                  autopct=lambda pct: f'{pct:.1f}%\\n({int(pct/100.*sum(sentiment_counts)):,d})',\n",
        "                                  pctdistance=0.75,\n",
        "                                  wedgeprops=dict(width=0.5, edgecolor='white'))\n",
        "\n",
        "# Add a circle at the center to create a donut chart\n",
        "center_circle = plt.Circle((0,0), 0.50, fc='white')\n",
        "fig.gca().add_artist(center_circle)\n",
        "\n",
        "# Customize text properties\n",
        "plt.setp(autotexts, size=10, weight=\"bold\", color=\"blue\")\n",
        "plt.setp(texts, size=12)\n",
        "\n",
        "# Add legend\n",
        "ax.legend(wedges, sentiment_counts.index,\n",
        "          title=\"Sentiment Categories\",\n",
        "          loc=\"upper left\",\n",
        "          bbox_to_anchor=(1, 0, 0.5, 1),\n",
        "          fontsize=10)\n",
        "\n",
        "# Add a title\n",
        "plt.title('Sentiment Distribution of Client Reviews', fontsize=20, fontweight='bold', pad=20)\n",
        "\n",
        "# Add a subtitle\n",
        "plt.text(0, -1.2, f'Total Reviews: {sum(sentiment_counts):,d}',\n",
        "         horizontalalignment='center', fontsize=12, fontweight='bold')\n",
        "\n",
        "# Remove axes\n",
        "ax.axis('off')\n",
        "\n",
        "plt.tight_layout()\n",
        "\n",
        "# Show the plot\n",
        "plt.show()\n",
        "\n",
        "# Print the counts\n",
        "print(sentiment_counts)"
      ],
      "metadata": {
        "colab": {
          "base_uri": "https://localhost:8080/",
          "height": 776
        },
        "id": "m5jLg2Df4DZl",
        "outputId": "b6b7192b-9be2-4508-c66e-eaeff28923b8"
      },
      "execution_count": 16,
      "outputs": [
        {
          "output_type": "display_data",
          "data": {
            "text/plain": [
              "<Figure size 800x800 with 1 Axes>"
            ],
            "image/png": "[encoded data removed]"
          },
          "metadata": {}
        },
        {
          "output_type": "stream",
          "name": "stdout",
          "text": [
            "sentiment\n",
            "Positive    3862\n",
            "Negative    1040\n",
            "Neutral       98\n",
            "Name: count, dtype: int64\n"
          ]
        }
      ]
    },
    {
      "cell_type": "markdown",
      "metadata": {
        "id": "WDmo8938otAb"
      },
      "source": [
        "# **Entraînement des modèles de classification des sentiments**"
      ]
    },
    {
      "cell_type": "code",
      "source": [
        "# Préparation des données pour l'entraînement du modèle\n",
        "\n",
        "X = df['processed_text']\n",
        "y = df['label']\n",
        "X_train, X_test, y_train, y_test = train_test_split(X, y, test_size=0.2, random_state=42)"
      ],
      "metadata": {
        "id": "jemmKI0SYNa2"
      },
      "execution_count": 80,
      "outputs": []
    },
    {
      "cell_type": "markdown",
      "source": [
        ">**1. Un réseau de neurones récurrents (RNN)**"
      ],
      "metadata": {
        "id": "M_PuCA4Ft1Lx"
      }
    },
    {
      "cell_type": "markdown",
      "source": [
        "Dans les RNN, les séquences d'entrées doivent être de la même longueur pour être traitées efficacement. En calculant la longueur maximale du texte dans l'ensemble de données, nous obtenons un aperçu de la longueur des séquences d'entrée"
      ],
      "metadata": {
        "id": "HHaFV3jba6rK"
      }
    },
    {
      "cell_type": "code",
      "source": [
        "# Calculer la longueur maximale du texte\n",
        "df['text_length'] = df['text'].apply(lambda x: len(x.split()))\n",
        "\n",
        "max_length = df['text_length'].max()\n",
        "print(\"Maximum text length in the dataset:\", max_length)"
      ],
      "metadata": {
        "colab": {
          "base_uri": "https://localhost:8080/"
        },
        "id": "3rQSvxlobhjq",
        "outputId": "b0f50fa6-7e38-4e3b-a020-cac6b6a8c231"
      },
      "execution_count": 81,
      "outputs": [
        {
          "output_type": "stream",
          "name": "stdout",
          "text": [
            "Maximum text length in the dataset: 1002\n"
          ]
        }
      ]
    },
    {
      "cell_type": "code",
      "source": [
        "# Tokeniser les données texte. Cela garantit que le texte est représenté dans un format qui peut être\n",
        "# compris et traité par des algorithmes d'apprentissage automatique.\n",
        "\n",
        "# Tokeniser les textes\n",
        "tokenizer = Tokenizer()\n",
        "tokenizer.fit_on_texts(X_train)\n",
        "X_train_rnn = tokenizer.texts_to_sequences(X_train)\n",
        "X_test_rnn = tokenizer.texts_to_sequences(X_test)\n",
        "\n",
        "# # Tokeniser les textes pour random forest\n",
        "X_test = tokenizer.texts_to_sequences(X_test)"
      ],
      "metadata": {
        "id": "yKUkpjgtagP9"
      },
      "execution_count": 82,
      "outputs": []
    },
    {
      "cell_type": "code",
      "source": [
        "# Padding pour avoir des séquences de même longueur\n",
        "\n",
        "X_train_rnn = pad_sequences(X_train_rnn, maxlen=max_length)\n",
        "X_test_rnn = pad_sequences(X_test_rnn, maxlen=max_length)"
      ],
      "metadata": {
        "id": "rIr7brNKlF6J"
      },
      "execution_count": 86,
      "outputs": []
    },
    {
      "cell_type": "code",
      "source": [
        "# Entraîner un modèle RNN\n",
        "model_rnn = Sequential()\n",
        "model_rnn.add(Embedding(input_dim=len(tokenizer.word_index)+1, output_dim=100, input_length=max_length))\n",
        "model_rnn.add(LSTM(128))\n",
        "model_rnn.add(Dense(5, activation='softmax'))\n",
        "model_rnn.compile(optimizer='adam', loss='sparse_categorical_crossentropy', metrics=['accuracy'])\n",
        "model_rnn.fit(X_train_rnn, y_train, epochs=5, batch_size=64)"
      ],
      "metadata": {
        "colab": {
          "base_uri": "https://localhost:8080/"
        },
        "id": "Gvuwl6RSlXok",
        "outputId": "f75cd816-893d-4fa9-b8a4-2d4b2f614cfa"
      },
      "execution_count": 88,
      "outputs": [
        {
          "output_type": "stream",
          "name": "stdout",
          "text": [
            "Epoch 1/5\n"
          ]
        },
        {
          "output_type": "stream",
          "name": "stderr",
          "text": [
            "/usr/local/lib/python3.10/dist-packages/keras/src/layers/core/embedding.py:90: UserWarning: Argument `input_length` is deprecated. Just remove it.\n",
            "  warnings.warn(\n"
          ]
        },
        {
          "output_type": "stream",
          "name": "stdout",
          "text": [
            "\u001b[1m63/63\u001b[0m \u001b[32m━━━━━━━━━━━━━━━━━━━━\u001b[0m\u001b[37m\u001b[0m \u001b[1m164s\u001b[0m 3s/step - accuracy: 0.2579 - loss: 1.5861\n",
            "Epoch 2/5\n",
            "\u001b[1m63/63\u001b[0m \u001b[32m━━━━━━━━━━━━━━━━━━━━\u001b[0m\u001b[37m\u001b[0m \u001b[1m208s\u001b[0m 3s/step - accuracy: 0.5054 - loss: 1.2100\n",
            "Epoch 3/5\n",
            "\u001b[1m63/63\u001b[0m \u001b[32m━━━━━━━━━━━━━━━━━━━━\u001b[0m\u001b[37m\u001b[0m \u001b[1m165s\u001b[0m 3s/step - accuracy: 0.6756 - loss: 0.8234\n",
            "Epoch 4/5\n",
            "\u001b[1m63/63\u001b[0m \u001b[32m━━━━━━━━━━━━━━━━━━━━\u001b[0m\u001b[37m\u001b[0m \u001b[1m200s\u001b[0m 3s/step - accuracy: 0.8027 - loss: 0.5451\n",
            "Epoch 5/5\n",
            "\u001b[1m63/63\u001b[0m \u001b[32m━━━━━━━━━━━━━━━━━━━━\u001b[0m\u001b[37m\u001b[0m \u001b[1m208s\u001b[0m 3s/step - accuracy: 0.9110 - loss: 0.2863\n"
          ]
        },
        {
          "output_type": "execute_result",
          "data": {
            "text/plain": [
              "<keras.src.callbacks.history.History at 0x7f622c2764a0>"
            ]
          },
          "metadata": {},
          "execution_count": 88
        }
      ]
    },
    {
      "cell_type": "markdown",
      "source": [
        ">**2. Random Forest**"
      ],
      "metadata": {
        "id": "w2kN3KIuvUCO"
      }
    },
    {
      "cell_type": "code",
      "source": [
        "# Entraîner un modèle Random Forest\n",
        "vectorizer = CountVectorizer()\n",
        "X_train_rf = vectorizer.fit_transform(X)\n",
        "\n",
        "\n",
        "# Sauvegarder le vectorizer\n",
        "joblib.dump(vectorizer, 'vectorizer.joblib')\n",
        "\n"
      ],
      "metadata": {
        "colab": {
          "base_uri": "https://localhost:8080/"
        },
        "id": "bIcNkbvylXrB",
        "outputId": "d89437b3-9289-4804-ac5a-2724bbc2ee6b"
      },
      "execution_count": 100,
      "outputs": [
        {
          "output_type": "execute_result",
          "data": {
            "text/plain": [
              "['vectorizer.joblib']"
            ]
          },
          "metadata": {},
          "execution_count": 100
        }
      ]
    },
    {
      "cell_type": "code",
      "source": [
        "# Créer un modèle Random Forest\n",
        "model_rf = RandomForestClassifier()\n",
        "model_rf.fit(X_train_rf, y)"
      ],
      "metadata": {
        "colab": {
          "base_uri": "https://localhost:8080/",
          "height": 75
        },
        "id": "kdmzrutWEoxY",
        "outputId": "b3fde7f3-7372-4586-bcea-0dd76a81f753"
      },
      "execution_count": 101,
      "outputs": [
        {
          "output_type": "execute_result",
          "data": {
            "text/plain": [
              "RandomForestClassifier()"
            ],
            "text/html": [
              "<style>#sk-container-id-8 {color: black;}#sk-container-id-8 pre{padding: 0;}#sk-container-id-8 div.sk-toggleable {background-color: white;}#sk-container-id-8 label.sk-toggleable__label {cursor: pointer;display: block;width: 100%;margin-bottom: 0;padding: 0.3em;box-sizing: border-box;text-align: center;}#sk-container-id-8 label.sk-toggleable__label-arrow:before {content: \"▸\";float: left;margin-right: 0.25em;color: #696969;}#sk-container-id-8 label.sk-toggleable__label-arrow:hover:before {color: black;}#sk-container-id-8 div.sk-estimator:hover label.sk-toggleable__label-arrow:before {color: black;}#sk-container-id-8 div.sk-toggleable__content {max-height: 0;max-width: 0;overflow: hidden;text-align: left;background-color: #f0f8ff;}#sk-container-id-8 div.sk-toggleable__content pre {margin: 0.2em;color: black;border-radius: 0.25em;background-color: #f0f8ff;}#sk-container-id-8 input.sk-toggleable__control:checked~div.sk-toggleable__content {max-height: 200px;max-width: 100%;overflow: auto;}#sk-container-id-8 input.sk-toggleable__control:checked~label.sk-toggleable__label-arrow:before {content: \"▾\";}#sk-container-id-8 div.sk-estimator input.sk-toggleable__control:checked~label.sk-toggleable__label {background-color: #d4ebff;}#sk-container-id-8 div.sk-label input.sk-toggleable__control:checked~label.sk-toggleable__label {background-color: #d4ebff;}#sk-container-id-8 input.sk-hidden--visually {border: 0;clip: rect(1px 1px 1px 1px);clip: rect(1px, 1px, 1px, 1px);height: 1px;margin: -1px;overflow: hidden;padding: 0;position: absolute;width: 1px;}#sk-container-id-8 div.sk-estimator {font-family: monospace;background-color: #f0f8ff;border: 1px dotted black;border-radius: 0.25em;box-sizing: border-box;margin-bottom: 0.5em;}#sk-container-id-8 div.sk-estimator:hover {background-color: #d4ebff;}#sk-container-id-8 div.sk-parallel-item::after {content: \"\";width: 100%;border-bottom: 1px solid gray;flex-grow: 1;}#sk-container-id-8 div.sk-label:hover label.sk-toggleable__label {background-color: #d4ebff;}#sk-container-id-8 div.sk-serial::before {content: \"\";position: absolute;border-left: 1px solid gray;box-sizing: border-box;top: 0;bottom: 0;left: 50%;z-index: 0;}#sk-container-id-8 div.sk-serial {display: flex;flex-direction: column;align-items: center;background-color: white;padding-right: 0.2em;padding-left: 0.2em;position: relative;}#sk-container-id-8 div.sk-item {position: relative;z-index: 1;}#sk-container-id-8 div.sk-parallel {display: flex;align-items: stretch;justify-content: center;background-color: white;position: relative;}#sk-container-id-8 div.sk-item::before, #sk-container-id-8 div.sk-parallel-item::before {content: \"\";position: absolute;border-left: 1px solid gray;box-sizing: border-box;top: 0;bottom: 0;left: 50%;z-index: -1;}#sk-container-id-8 div.sk-parallel-item {display: flex;flex-direction: column;z-index: 1;position: relative;background-color: white;}#sk-container-id-8 div.sk-parallel-item:first-child::after {align-self: flex-end;width: 50%;}#sk-container-id-8 div.sk-parallel-item:last-child::after {align-self: flex-start;width: 50%;}#sk-container-id-8 div.sk-parallel-item:only-child::after {width: 0;}#sk-container-id-8 div.sk-dashed-wrapped {border: 1px dashed gray;margin: 0 0.4em 0.5em 0.4em;box-sizing: border-box;padding-bottom: 0.4em;background-color: white;}#sk-container-id-8 div.sk-label label {font-family: monospace;font-weight: bold;display: inline-block;line-height: 1.2em;}#sk-container-id-8 div.sk-label-container {text-align: center;}#sk-container-id-8 div.sk-container {/* jupyter's `normalize.less` sets `[hidden] { display: none; }` but bootstrap.min.css set `[hidden] { display: none !important; }` so we also need the `!important` here to be able to override the default hidden behavior on the sphinx rendered scikit-learn.org. See: https://github.com/scikit-learn/scikit-learn/issues/21755 */display: inline-block !important;position: relative;}#sk-container-id-8 div.sk-text-repr-fallback {display: none;}</style><div id=\"sk-container-id-8\" class=\"sk-top-container\"><div class=\"sk-text-repr-fallback\"><pre>RandomForestClassifier()</pre><b>In a Jupyter environment, please rerun this cell to show the HTML representation or trust the notebook. <br />On GitHub, the HTML representation is unable to render, please try loading this page with nbviewer.org.</b></div><div class=\"sk-container\" hidden><div class=\"sk-item\"><div class=\"sk-estimator sk-toggleable\"><input class=\"sk-toggleable__control sk-hidden--visually\" id=\"sk-estimator-id-10\" type=\"checkbox\" checked><label for=\"sk-estimator-id-10\" class=\"sk-toggleable__label sk-toggleable__label-arrow\">RandomForestClassifier</label><div class=\"sk-toggleable__content\"><pre>RandomForestClassifier()</pre></div></div></div></div></div>"
            ]
          },
          "metadata": {},
          "execution_count": 101
        }
      ]
    },
    {
      "cell_type": "markdown",
      "source": [
        "# **Evaluation des modèles de classification des sentiments**"
      ],
      "metadata": {
        "id": "XCAxbdVJv13Y"
      }
    },
    {
      "cell_type": "code",
      "source": [
        "# Convert the padded sequences back to text format\n",
        "X_test_text = tokenizer.sequences_to_texts(X_test)\n",
        "\n",
        "# Transform the text data using the CountVectorizer\n",
        "X_test_rf = vectorizer.transform(X_test_text)"
      ],
      "metadata": {
        "id": "BEqsBxZfq3D2"
      },
      "execution_count": 84,
      "outputs": []
    },
    {
      "cell_type": "code",
      "source": [
        "# Évaluer les modèles\n",
        "score_rnn = model_rnn.evaluate(X_test_rnn, y_test)\n",
        "# Evaluate the Random Forest model using the transformed test data\n",
        "score_rf = model_rf.score(X_test_rf, y_test)\n",
        "\n",
        "score_rnn,score_rf"
      ],
      "metadata": {
        "colab": {
          "base_uri": "https://localhost:8080/"
        },
        "id": "QxH1bNSGlXtu",
        "outputId": "e63bdd32-cee5-4956-bcc1-635e301afebb"
      },
      "execution_count": 90,
      "outputs": [
        {
          "output_type": "stream",
          "name": "stdout",
          "text": [
            "\u001b[1m32/32\u001b[0m \u001b[32m━━━━━━━━━━━━━━━━━━━━\u001b[0m\u001b[37m\u001b[0m \u001b[1m17s\u001b[0m 528ms/step - accuracy: 0.4623 - loss: 1.7344\n"
          ]
        },
        {
          "output_type": "execute_result",
          "data": {
            "text/plain": [
              "([1.7316534519195557, 0.460999995470047], 1.0)"
            ]
          },
          "metadata": {},
          "execution_count": 90
        }
      ]
    },
    {
      "cell_type": "code",
      "source": [
        "# Utiliser le modèle ayant la meilleure performance pour prédire les sentiments des avis clients\n",
        "if score_rnn[1] > score_rf:\n",
        "    predictions = model_rnn.predict(X_test_rnn)\n",
        "else:\n",
        "    predictions = model_rf.predict(X_test_rf)"
      ],
      "metadata": {
        "colab": {
          "base_uri": "https://localhost:8080/"
        },
        "id": "2EuvVg-jlXvu",
        "outputId": "d0ff91ea-93cb-492f-f733-f0a55a2e3d82"
      },
      "execution_count": 70,
      "outputs": [
        {
          "output_type": "stream",
          "name": "stdout",
          "text": [
            "\u001b[1m32/32\u001b[0m \u001b[32m━━━━━━━━━━━━━━━━━━━━\u001b[0m\u001b[37m\u001b[0m \u001b[1m18s\u001b[0m 541ms/step\n"
          ]
        }
      ]
    },
    {
      "cell_type": "code",
      "source": [
        "# Afficher les prédictions, qui sont les scores de probabilité pour chaque classe de sentiments prédits par le modèle\n",
        "print(predictions)"
      ],
      "metadata": {
        "colab": {
          "base_uri": "https://localhost:8080/"
        },
        "id": "ZkBLWY93rin8",
        "outputId": "d66d6e1b-6847-4a41-a03c-b7ecfac4aa9f"
      },
      "execution_count": 71,
      "outputs": [
        {
          "output_type": "stream",
          "name": "stdout",
          "text": [
            "[[0.16433688 0.03325817 0.17277716 0.8640158  0.9864816 ]\n",
            " [0.05649861 0.57272816 0.9460289  0.8716915  0.12533168]\n",
            " [0.9911257  0.8923603  0.15186927 0.03932088 0.08592919]\n",
            " ...\n",
            " [0.39939702 0.4107295  0.5159131  0.6419872  0.49291468]\n",
            " [0.08278992 0.910574   0.98028195 0.575888   0.02321457]\n",
            " [0.9720167  0.51124626 0.08793963 0.12027492 0.57699305]]\n"
          ]
        }
      ]
    },
    {
      "cell_type": "code",
      "source": [
        "\n",
        "# Obtenir l'indice de la classe prédite pour chaque avis client\n",
        "predicted_classes = np.argmax(predictions, axis=1)\n",
        "\n",
        "# Afficher les classes prédites\n",
        "print(predicted_classes)"
      ],
      "metadata": {
        "colab": {
          "base_uri": "https://localhost:8080/"
        },
        "id": "HJOVimYL2Nwy",
        "outputId": "4340ff1f-923c-4259-8f1f-d98c93d7aea3"
      },
      "execution_count": 72,
      "outputs": [
        {
          "output_type": "stream",
          "name": "stdout",
          "text": [
            "[4 2 0 2 4 1 1 2 1 3 4 1 3 4 3 1 0 3 0 4 3 2 4 2 3 1 4 1 0 0 3 4 3 2 1 2 3\n",
            " 3 3 1 3 1 1 4 2 4 2 1 4 4 3 2 2 2 2 4 3 4 1 3 0 4 0 4 1 1 1 3 2 1 2 2 3 2\n",
            " 4 0 1 4 0 4 1 4 2 2 4 2 3 3 0 3 1 3 2 4 1 1 0 2 2 4 0 3 3 2 3 1 3 4 3 4 0\n",
            " 2 4 3 3 0 3 4 1 1 1 3 3 3 1 0 0 4 4 0 2 4 4 1 1 0 2 2 3 1 2 1 1 4 4 3 0 3\n",
            " 1 3 0 2 0 4 1 2 3 3 3 4 0 4 0 4 4 3 2 3 2 4 3 1 3 2 0 4 4 1 0 3 3 1 0 2 3\n",
            " 3 4 0 4 3 1 4 3 2 4 0 4 1 4 1 2 4 3 1 4 3 4 3 4 1 0 0 2 2 0 3 3 3 2 3 4 1\n",
            " 0 4 3 4 3 1 2 3 3 4 1 3 1 1 2 3 2 4 3 3 3 3 3 0 0 1 4 4 1 2 0 4 0 1 3 0 0\n",
            " 2 2 0 3 2 2 1 3 0 2 3 4 0 4 0 1 2 1 0 4 4 2 4 0 3 2 1 4 3 2 0 0 3 3 0 3 1\n",
            " 4 4 3 1 2 1 2 4 1 1 1 1 3 2 1 0 1 4 0 2 4 3 4 1 3 0 3 4 4 2 4 0 1 3 0 2 4\n",
            " 3 1 2 4 1 4 3 3 3 2 3 3 3 2 2 2 3 3 0 2 0 4 0 1 3 3 0 0 3 2 3 2 1 4 3 3 3\n",
            " 1 3 0 2 3 3 0 2 0 0 0 1 3 2 0 0 1 0 4 1 1 3 0 3 2 3 3 0 3 0 3 4 0 0 0 4 4\n",
            " 1 1 4 1 4 2 3 2 3 4 2 1 3 4 0 4 3 1 1 2 0 1 1 1 4 3 4 2 0 1 4 2 3 1 4 3 2\n",
            " 1 0 3 2 0 1 3 1 0 4 4 3 0 2 0 1 4 4 1 4 2 1 2 4 3 4 1 2 2 3 2 3 4 0 2 1 2\n",
            " 3 2 0 0 1 1 2 3 0 3 1 3 3 4 4 3 1 2 2 4 1 4 2 2 4 2 4 0 3 0 3 0 2 2 2 3 3\n",
            " 1 1 3 1 3 1 3 3 1 4 3 1 2 2 0 3 4 0 2 4 1 2 4 1 2 4 3 4 2 0 2 3 1 4 1 0 3\n",
            " 1 0 0 4 0 4 3 4 1 4 1 3 0 1 4 2 2 4 1 1 3 3 0 2 2 4 3 3 2 1 0 0 3 3 4 3 3\n",
            " 1 4 3 1 1 2 1 4 1 0 0 1 0 3 4 4 2 1 4 0 2 2 2 2 3 3 4 0 3 1 3 3 4 1 1 2 4\n",
            " 1 2 2 1 4 2 0 4 3 4 2 1 4 3 3 1 3 2 1 1 1 4 3 4 1 3 0 3 4 3 2 0 3 4 3 2 2\n",
            " 3 1 4 1 3 1 4 1 2 4 4 3 3 2 3 4 3 2 3 0 2 1 4 4 3 3 3 3 4 3 1 1 3 2 1 0 0\n",
            " 1 3 1 3 4 4 2 1 3 2 3 4 3 2 0 0 1 4 4 1 2 2 1 0 1 3 3 2 1 0 3 4 4 4 4 2 2\n",
            " 3 1 0 1 0 0 3 2 4 2 4 1 3 1 0 4 1 0 4 2 0 2 2 3 1 2 4 4 2 2 3 3 4 4 3 2 4\n",
            " 3 4 4 4 2 1 4 4 1 2 1 3 3 0 4 3 4 0 4 3 2 2 3 1 4 4 1 0 2 0 3 1 2 0 4 1 3\n",
            " 2 3 2 3 2 2 2 0 4 0 1 1 4 3 1 3 3 0 2 1 0 3 3 1 3 0 0 0 0 3 0 0 3 2 2 3 3\n",
            " 2 1 2 4 3 3 1 4 2 0 0 2 1 3 4 0 1 3 3 1 3 3 4 3 2 1 4 4 1 0 3 4 4 0 3 4 4\n",
            " 3 3 2 4 3 4 4 4 4 4 4 2 3 4 1 3 2 0 3 4 3 4 3 3 1 2 4 2 2 2 3 0 1 3 2 3 2\n",
            " 4 1 1 1 4 4 3 2 2 4 2 0 1 4 2 2 3 4 2 3 1 3 1 3 1 3 2 3 1 4 3 2 3 1 1 2 4\n",
            " 0 3 4 3 1 3 2 2 2 4 2 2 0 0 4 1 3 0 0 2 1 4 2 3 0 3 2 3 2 4 0 3 1 1 3 3 2\n",
            " 0]\n"
          ]
        }
      ]
    },
    {
      "cell_type": "code",
      "source": [
        "from sklearn.model_selection import RandomizedSearchCV\n",
        "\n",
        "\n",
        "# Définir les hyperparamètres à rechercher\n",
        "param_grid = {\n",
        "    'n_estimators': [50, 100, 150],\n",
        "    'max_depth': [5, 10, 15, None]\n",
        "}"
      ],
      "metadata": {
        "id": "CCoYK6SU8WRd"
      },
      "execution_count": 91,
      "outputs": []
    },
    {
      "cell_type": "code",
      "source": [
        "# Recherche aléatoire des hyperparamètres avec validation croisée\n",
        "random_search = RandomizedSearchCV(model_rf, param_distributions=param_grid, n_iter=5, cv=5)\n",
        "random_search.fit(X_train_rf, y)"
      ],
      "metadata": {
        "colab": {
          "base_uri": "https://localhost:8080/",
          "height": 118
        },
        "id": "tyMq1i_Z8ylK",
        "outputId": "1fb8c926-5ae2-4445-b499-24ad268b2098"
      },
      "execution_count": 95,
      "outputs": [
        {
          "output_type": "execute_result",
          "data": {
            "text/plain": [
              "RandomizedSearchCV(cv=5, estimator=RandomForestClassifier(), n_iter=5,\n",
              "                   param_distributions={'max_depth': [5, 10, 15, None],\n",
              "                                        'n_estimators': [50, 100, 150]})"
            ],
            "text/html": [
              "<style>#sk-container-id-6 {color: black;}#sk-container-id-6 pre{padding: 0;}#sk-container-id-6 div.sk-toggleable {background-color: white;}#sk-container-id-6 label.sk-toggleable__label {cursor: pointer;display: block;width: 100%;margin-bottom: 0;padding: 0.3em;box-sizing: border-box;text-align: center;}#sk-container-id-6 label.sk-toggleable__label-arrow:before {content: \"▸\";float: left;margin-right: 0.25em;color: #696969;}#sk-container-id-6 label.sk-toggleable__label-arrow:hover:before {color: black;}#sk-container-id-6 div.sk-estimator:hover label.sk-toggleable__label-arrow:before {color: black;}#sk-container-id-6 div.sk-toggleable__content {max-height: 0;max-width: 0;overflow: hidden;text-align: left;background-color: #f0f8ff;}#sk-container-id-6 div.sk-toggleable__content pre {margin: 0.2em;color: black;border-radius: 0.25em;background-color: #f0f8ff;}#sk-container-id-6 input.sk-toggleable__control:checked~div.sk-toggleable__content {max-height: 200px;max-width: 100%;overflow: auto;}#sk-container-id-6 input.sk-toggleable__control:checked~label.sk-toggleable__label-arrow:before {content: \"▾\";}#sk-container-id-6 div.sk-estimator input.sk-toggleable__control:checked~label.sk-toggleable__label {background-color: #d4ebff;}#sk-container-id-6 div.sk-label input.sk-toggleable__control:checked~label.sk-toggleable__label {background-color: #d4ebff;}#sk-container-id-6 input.sk-hidden--visually {border: 0;clip: rect(1px 1px 1px 1px);clip: rect(1px, 1px, 1px, 1px);height: 1px;margin: -1px;overflow: hidden;padding: 0;position: absolute;width: 1px;}#sk-container-id-6 div.sk-estimator {font-family: monospace;background-color: #f0f8ff;border: 1px dotted black;border-radius: 0.25em;box-sizing: border-box;margin-bottom: 0.5em;}#sk-container-id-6 div.sk-estimator:hover {background-color: #d4ebff;}#sk-container-id-6 div.sk-parallel-item::after {content: \"\";width: 100%;border-bottom: 1px solid gray;flex-grow: 1;}#sk-container-id-6 div.sk-label:hover label.sk-toggleable__label {background-color: #d4ebff;}#sk-container-id-6 div.sk-serial::before {content: \"\";position: absolute;border-left: 1px solid gray;box-sizing: border-box;top: 0;bottom: 0;left: 50%;z-index: 0;}#sk-container-id-6 div.sk-serial {display: flex;flex-direction: column;align-items: center;background-color: white;padding-right: 0.2em;padding-left: 0.2em;position: relative;}#sk-container-id-6 div.sk-item {position: relative;z-index: 1;}#sk-container-id-6 div.sk-parallel {display: flex;align-items: stretch;justify-content: center;background-color: white;position: relative;}#sk-container-id-6 div.sk-item::before, #sk-container-id-6 div.sk-parallel-item::before {content: \"\";position: absolute;border-left: 1px solid gray;box-sizing: border-box;top: 0;bottom: 0;left: 50%;z-index: -1;}#sk-container-id-6 div.sk-parallel-item {display: flex;flex-direction: column;z-index: 1;position: relative;background-color: white;}#sk-container-id-6 div.sk-parallel-item:first-child::after {align-self: flex-end;width: 50%;}#sk-container-id-6 div.sk-parallel-item:last-child::after {align-self: flex-start;width: 50%;}#sk-container-id-6 div.sk-parallel-item:only-child::after {width: 0;}#sk-container-id-6 div.sk-dashed-wrapped {border: 1px dashed gray;margin: 0 0.4em 0.5em 0.4em;box-sizing: border-box;padding-bottom: 0.4em;background-color: white;}#sk-container-id-6 div.sk-label label {font-family: monospace;font-weight: bold;display: inline-block;line-height: 1.2em;}#sk-container-id-6 div.sk-label-container {text-align: center;}#sk-container-id-6 div.sk-container {/* jupyter's `normalize.less` sets `[hidden] { display: none; }` but bootstrap.min.css set `[hidden] { display: none !important; }` so we also need the `!important` here to be able to override the default hidden behavior on the sphinx rendered scikit-learn.org. See: https://github.com/scikit-learn/scikit-learn/issues/21755 */display: inline-block !important;position: relative;}#sk-container-id-6 div.sk-text-repr-fallback {display: none;}</style><div id=\"sk-container-id-6\" class=\"sk-top-container\"><div class=\"sk-text-repr-fallback\"><pre>RandomizedSearchCV(cv=5, estimator=RandomForestClassifier(), n_iter=5,\n",
              "                   param_distributions={&#x27;max_depth&#x27;: [5, 10, 15, None],\n",
              "                                        &#x27;n_estimators&#x27;: [50, 100, 150]})</pre><b>In a Jupyter environment, please rerun this cell to show the HTML representation or trust the notebook. <br />On GitHub, the HTML representation is unable to render, please try loading this page with nbviewer.org.</b></div><div class=\"sk-container\" hidden><div class=\"sk-item sk-dashed-wrapped\"><div class=\"sk-label-container\"><div class=\"sk-label sk-toggleable\"><input class=\"sk-toggleable__control sk-hidden--visually\" id=\"sk-estimator-id-6\" type=\"checkbox\" ><label for=\"sk-estimator-id-6\" class=\"sk-toggleable__label sk-toggleable__label-arrow\">RandomizedSearchCV</label><div class=\"sk-toggleable__content\"><pre>RandomizedSearchCV(cv=5, estimator=RandomForestClassifier(), n_iter=5,\n",
              "                   param_distributions={&#x27;max_depth&#x27;: [5, 10, 15, None],\n",
              "                                        &#x27;n_estimators&#x27;: [50, 100, 150]})</pre></div></div></div><div class=\"sk-parallel\"><div class=\"sk-parallel-item\"><div class=\"sk-item\"><div class=\"sk-label-container\"><div class=\"sk-label sk-toggleable\"><input class=\"sk-toggleable__control sk-hidden--visually\" id=\"sk-estimator-id-7\" type=\"checkbox\" ><label for=\"sk-estimator-id-7\" class=\"sk-toggleable__label sk-toggleable__label-arrow\">estimator: RandomForestClassifier</label><div class=\"sk-toggleable__content\"><pre>RandomForestClassifier()</pre></div></div></div><div class=\"sk-serial\"><div class=\"sk-item\"><div class=\"sk-estimator sk-toggleable\"><input class=\"sk-toggleable__control sk-hidden--visually\" id=\"sk-estimator-id-8\" type=\"checkbox\" ><label for=\"sk-estimator-id-8\" class=\"sk-toggleable__label sk-toggleable__label-arrow\">RandomForestClassifier</label><div class=\"sk-toggleable__content\"><pre>RandomForestClassifier()</pre></div></div></div></div></div></div></div></div></div></div>"
            ]
          },
          "metadata": {},
          "execution_count": 95
        }
      ]
    },
    {
      "cell_type": "code",
      "source": [
        "# Obtenir les meilleurs paramètres\n",
        "best_params = random_search.best_params_"
      ],
      "metadata": {
        "id": "kh3UapzN8zPW"
      },
      "execution_count": 96,
      "outputs": []
    },
    {
      "cell_type": "code",
      "source": [
        "# Entraîner le modèle avec les meilleurs paramètres\n",
        "final_model_rf = RandomForestClassifier(**best_params)\n",
        "final_model_rf.fit(X_train_rf, y)"
      ],
      "metadata": {
        "colab": {
          "base_uri": "https://localhost:8080/",
          "height": 75
        },
        "id": "tOh_z5be833Y",
        "outputId": "8348080d-f449-4d84-9e39-0e446aee07d1"
      },
      "execution_count": 98,
      "outputs": [
        {
          "output_type": "execute_result",
          "data": {
            "text/plain": [
              "RandomForestClassifier()"
            ],
            "text/html": [
              "<style>#sk-container-id-7 {color: black;}#sk-container-id-7 pre{padding: 0;}#sk-container-id-7 div.sk-toggleable {background-color: white;}#sk-container-id-7 label.sk-toggleable__label {cursor: pointer;display: block;width: 100%;margin-bottom: 0;padding: 0.3em;box-sizing: border-box;text-align: center;}#sk-container-id-7 label.sk-toggleable__label-arrow:before {content: \"▸\";float: left;margin-right: 0.25em;color: #696969;}#sk-container-id-7 label.sk-toggleable__label-arrow:hover:before {color: black;}#sk-container-id-7 div.sk-estimator:hover label.sk-toggleable__label-arrow:before {color: black;}#sk-container-id-7 div.sk-toggleable__content {max-height: 0;max-width: 0;overflow: hidden;text-align: left;background-color: #f0f8ff;}#sk-container-id-7 div.sk-toggleable__content pre {margin: 0.2em;color: black;border-radius: 0.25em;background-color: #f0f8ff;}#sk-container-id-7 input.sk-toggleable__control:checked~div.sk-toggleable__content {max-height: 200px;max-width: 100%;overflow: auto;}#sk-container-id-7 input.sk-toggleable__control:checked~label.sk-toggleable__label-arrow:before {content: \"▾\";}#sk-container-id-7 div.sk-estimator input.sk-toggleable__control:checked~label.sk-toggleable__label {background-color: #d4ebff;}#sk-container-id-7 div.sk-label input.sk-toggleable__control:checked~label.sk-toggleable__label {background-color: #d4ebff;}#sk-container-id-7 input.sk-hidden--visually {border: 0;clip: rect(1px 1px 1px 1px);clip: rect(1px, 1px, 1px, 1px);height: 1px;margin: -1px;overflow: hidden;padding: 0;position: absolute;width: 1px;}#sk-container-id-7 div.sk-estimator {font-family: monospace;background-color: #f0f8ff;border: 1px dotted black;border-radius: 0.25em;box-sizing: border-box;margin-bottom: 0.5em;}#sk-container-id-7 div.sk-estimator:hover {background-color: #d4ebff;}#sk-container-id-7 div.sk-parallel-item::after {content: \"\";width: 100%;border-bottom: 1px solid gray;flex-grow: 1;}#sk-container-id-7 div.sk-label:hover label.sk-toggleable__label {background-color: #d4ebff;}#sk-container-id-7 div.sk-serial::before {content: \"\";position: absolute;border-left: 1px solid gray;box-sizing: border-box;top: 0;bottom: 0;left: 50%;z-index: 0;}#sk-container-id-7 div.sk-serial {display: flex;flex-direction: column;align-items: center;background-color: white;padding-right: 0.2em;padding-left: 0.2em;position: relative;}#sk-container-id-7 div.sk-item {position: relative;z-index: 1;}#sk-container-id-7 div.sk-parallel {display: flex;align-items: stretch;justify-content: center;background-color: white;position: relative;}#sk-container-id-7 div.sk-item::before, #sk-container-id-7 div.sk-parallel-item::before {content: \"\";position: absolute;border-left: 1px solid gray;box-sizing: border-box;top: 0;bottom: 0;left: 50%;z-index: -1;}#sk-container-id-7 div.sk-parallel-item {display: flex;flex-direction: column;z-index: 1;position: relative;background-color: white;}#sk-container-id-7 div.sk-parallel-item:first-child::after {align-self: flex-end;width: 50%;}#sk-container-id-7 div.sk-parallel-item:last-child::after {align-self: flex-start;width: 50%;}#sk-container-id-7 div.sk-parallel-item:only-child::after {width: 0;}#sk-container-id-7 div.sk-dashed-wrapped {border: 1px dashed gray;margin: 0 0.4em 0.5em 0.4em;box-sizing: border-box;padding-bottom: 0.4em;background-color: white;}#sk-container-id-7 div.sk-label label {font-family: monospace;font-weight: bold;display: inline-block;line-height: 1.2em;}#sk-container-id-7 div.sk-label-container {text-align: center;}#sk-container-id-7 div.sk-container {/* jupyter's `normalize.less` sets `[hidden] { display: none; }` but bootstrap.min.css set `[hidden] { display: none !important; }` so we also need the `!important` here to be able to override the default hidden behavior on the sphinx rendered scikit-learn.org. See: https://github.com/scikit-learn/scikit-learn/issues/21755 */display: inline-block !important;position: relative;}#sk-container-id-7 div.sk-text-repr-fallback {display: none;}</style><div id=\"sk-container-id-7\" class=\"sk-top-container\"><div class=\"sk-text-repr-fallback\"><pre>RandomForestClassifier()</pre><b>In a Jupyter environment, please rerun this cell to show the HTML representation or trust the notebook. <br />On GitHub, the HTML representation is unable to render, please try loading this page with nbviewer.org.</b></div><div class=\"sk-container\" hidden><div class=\"sk-item\"><div class=\"sk-estimator sk-toggleable\"><input class=\"sk-toggleable__control sk-hidden--visually\" id=\"sk-estimator-id-9\" type=\"checkbox\" checked><label for=\"sk-estimator-id-9\" class=\"sk-toggleable__label sk-toggleable__label-arrow\">RandomForestClassifier</label><div class=\"sk-toggleable__content\"><pre>RandomForestClassifier()</pre></div></div></div></div></div>"
            ]
          },
          "metadata": {},
          "execution_count": 98
        }
      ]
    },
    {
      "cell_type": "code",
      "source": [
        "# Evaluate the final Random Forest model\n",
        "final_score_rf = final_model_rf.score(X_test_rf, y_test)\n",
        "final_score_rf"
      ],
      "metadata": {
        "colab": {
          "base_uri": "https://localhost:8080/"
        },
        "id": "DSeE6xNB9AZM",
        "outputId": "ba555d49-c3f9-4b13-f77f-530ed5ac5b95"
      },
      "execution_count": 99,
      "outputs": [
        {
          "output_type": "execute_result",
          "data": {
            "text/plain": [
              "1.0"
            ]
          },
          "metadata": {},
          "execution_count": 99
        }
      ]
    },
    {
      "cell_type": "code",
      "source": [
        "# Import the joblib library\n",
        "import joblib\n",
        "\n",
        "# Save the Random Forest model\n",
        "joblib.dump(model_rf, 'client_review_classifier.joblib')"
      ],
      "metadata": {
        "colab": {
          "base_uri": "https://localhost:8080/"
        },
        "id": "SBVKeudylX0X",
        "outputId": "a25d8853-846f-4888-b1d6-e3cbdb063a76"
      },
      "execution_count": 52,
      "outputs": [
        {
          "output_type": "execute_result",
          "data": {
            "text/plain": [
              "['client_review_classifier.joblib']"
            ]
          },
          "metadata": {},
          "execution_count": 52
        }
      ]
    }
  ],
  "metadata": {
    "colab": {
      "provenance": [],
      "authorship_tag": "ABX9TyOZ4EFSOzxU0DHjPRElo67a",
      "include_colab_link": true
    },
    "kernelspec": {
      "display_name": "Python 3",
      "name": "python3"
    },
    "language_info": {
      "name": "python"
    }
  },
  "nbformat": 4,
  "nbformat_minor": 0
}